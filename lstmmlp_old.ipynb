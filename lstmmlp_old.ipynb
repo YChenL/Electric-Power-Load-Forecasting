{
 "cells": [
  {
   "cell_type": "code",
   "execution_count": 1,
   "id": "23344b7c-be29-4ac6-b3ac-3794d84ab078",
   "metadata": {
    "tags": []
   },
   "outputs": [],
   "source": [
    "import torch\n",
    "import torch.nn as nn\n",
    "import torch.nn.functional as F\n",
    "import numpy as np\n",
    "from tqdm import tqdm\n",
    "import matplotlib.pyplot as plt\n",
    "import math\n",
    "import random\n",
    "from pandas import read_csv\n",
    "from sklearn.preprocessing import MinMaxScaler\n",
    "from sklearn.preprocessing import LabelEncoder\n",
    "from sklearn import preprocessing\n",
    "from sklearn.preprocessing import StandardScaler"
   ]
  },
  {
   "cell_type": "code",
   "execution_count": 2,
   "id": "e9f0c6a4-1c30-4a48-a91d-b62ea08bf1ee",
   "metadata": {
    "tags": []
   },
   "outputs": [],
   "source": [
    "def DataLoader():\n",
    "    return train_x, train_y"
   ]
  },
  {
   "cell_type": "markdown",
   "id": "ed458220-3b1b-4dd2-984e-b69b9b101039",
   "metadata": {},
   "source": [
    "### Load Dataset"
   ]
  },
  {
   "cell_type": "code",
   "execution_count": 3,
   "id": "80a048c6-e52e-4130-88f0-6c79a97ee097",
   "metadata": {
    "tags": []
   },
   "outputs": [
    {
     "name": "stdout",
     "output_type": "stream",
     "text": [
      "[1392.111  1431.4233 1423.0066 1410.7123 1372.748  1386.267  1381.3723\n",
      " 1378.4746 1353.293  1335.6223 1320.3523 1333.945  1330.4126 1339.6173\n",
      " 1313.3643 1301.4497 1296.531  1299.255  1305.5079 1317.6346 1315.7377\n",
      " 1339.5693 1361.6046 1400.4777 1428.1663 1446.1556 1466.024  1468.502\n",
      " 1481.8534 1496.226  1527.27   1571.114  1624.5447 1671.1204 1719.1327\n",
      " 1754.1787 1798.2473 1819.5096 1848.9707 1861.4313 1885.8729 1900.818\n",
      " 1932.3964 1942.5647 1938.48   1895.8207 1834.9507 1790.488  1764.1803\n",
      " 1769.1963 1778.1836 1788.3136 1805.0197 1809.765  1815.3016 1811.8053\n",
      " 1816.3494 1821.587  1815.79   1808.665  1808.1364 1822.047  1845.4183\n",
      " 1864.1094 1880.1893 1881.735  1893.3247 1903.36   1933.1036 1961.5393\n",
      " 1998.0183 2023.2023 2027.2847 2009.187  1989.5627 1970.744  1982.5453\n",
      " 1994.414  2010.9124 1976.8947 1940.9207 1897.5177 1898.53   1895.3646\n",
      " 1893.88   1858.2617 1831.558  1801.2733 1768.919  1718.2664 1669.4626\n",
      " 1633.112  1615.0703 1596.0057 1562.915  1501.415 ] \n",
      " [1710.195  1691.14   1683.442  1654.2117 1636.656  1592.3174 1583.7036\n",
      " 1557.984  1537.235  1497.934  1482.0724 1491.5547 1527.9567 1532.7107\n",
      " 1544.151  1521.644  1533.1603 1533.977  1527.368  1541.3783 1530.959\n",
      " 1538.1443 1532.4626 1553.0994 1600.4711 1658.9307 1716.67   1756.294\n",
      " 1780.4303 1795.989  1854.6254 1940.4158 2073.0857 2178.6045 2270.8113\n",
      " 2308.6033 2352.1636 2391.0334 2445.7554 2487.332  2508.589  2530.0286\n",
      " 2542.0027 2572.919  2578.643  2549.811  2490.0283 2416.6257 2364.6826\n",
      " 2355.3735 2365.94   2391.7366 2376.546  2399.755  2387.814  2394.4255\n",
      " 2379.6125 2378.4973 2389.939  2400.4797 2422.448  2434.77   2437.7527\n",
      " 2429.9863 2420.2788 2421.9956 2442.479  2478.219  2520.5303 2546.2954\n",
      " 2575.9575 2591.5576 2612.9707 2606.385  2586.909  2579.0208 2580.4812\n",
      " 2595.3298 2597.0166 2608.143  2586.505  2575.536  2537.9214 2520.2278\n",
      " 2487.9087 2440.4333 2406.9849 2362.484  2312.1343 2246.6763 2158.4314\n",
      " 2079.305  2006.332  1952.4324 1903.4131 1837.034 ]\n",
      "[1687.5696 2027.2847 1296.531 ] \n",
      " [2143.9834 2612.9707 1482.0724]\n",
      "[ 5.   4.  13.   8.5] \n",
      " [ 5.  -1.   2.   0.5]\n"
     ]
    }
   ],
   "source": [
    "dataset = read_csv('clear_nj.csv')\n",
    "index   = read_csv('index.csv').values#[:,1]\n",
    "time    = dataset.values[:64,1:97].astype('float32')\n",
    "power   = dataset.values[:64,-7:-4].astype('float32')\n",
    "temp    = dataset.values[:64,-4:].astype('float32')\n",
    "\n",
    "# normalize features\n",
    "#归一化;归一化通常有两种：最值归一化和均值方差归一化，这里采用最值归一化\n",
    "scaler1 = MinMaxScaler(feature_range=(0, 1)).fit(time) #最大最小值归一化\n",
    "scaler2 = MinMaxScaler(feature_range=(0, 1)).fit(power) #最大最小值归一化\n",
    "scaler3 = MinMaxScaler(feature_range=(0, 1)).fit(temp) #最大最小值归一化\n",
    "\n",
    "scaled_time = scaler1.fit_transform(time) #\n",
    "scaled_pow  = scaler2.fit_transform(power) #\n",
    "scaled_temp = scaler3.fit_transform(temp) #\n",
    "\n",
    "print(time[0,:], '\\n', time[-1,:])\n",
    "print(power[0,:],'\\n', power[-1,:])\n",
    "print(temp[0,:], '\\n', temp[-1,:])"
   ]
  },
  {
   "cell_type": "code",
   "execution_count": 55,
   "id": "d15bbf42-200e-4105-a4ba-c2354b7662cb",
   "metadata": {},
   "outputs": [
    {
     "data": {
      "text/plain": [
       "21"
      ]
     },
     "execution_count": 55,
     "metadata": {},
     "output_type": "execute_result"
    }
   ],
   "source": [
    "int((4//96)+21)"
   ]
  },
  {
   "cell_type": "code",
   "execution_count": 75,
   "id": "7c74da6d-8d5c-4945-900b-f83014bf8f0d",
   "metadata": {},
   "outputs": [
    {
     "data": {
      "text/plain": [
       "672"
      ]
     },
     "execution_count": 75,
     "metadata": {},
     "output_type": "execute_result"
    }
   ],
   "source": [
    "6144-5472"
   ]
  },
  {
   "cell_type": "code",
   "execution_count": 4,
   "id": "d1a20fc6-3d17-45ea-942e-c029c4508aa9",
   "metadata": {
    "tags": []
   },
   "outputs": [],
   "source": [
    "def datamap(time, power, temp, index):\n",
    "    '''\n",
    "     data: sequency \n",
    "     index: \n",
    "    '''\n",
    "    seq = np.array([])\n",
    "    for i in range(time.shape[0]):\n",
    "        seq = np.concatenate((seq, time[i,:]), axis=0)\n",
    "    \n",
    "    seq_pow = np.array([])\n",
    "    for i in range(power.shape[0]):\n",
    "        seq_pow = np.concatenate((seq_pow, power[i,:]), axis=0)\n",
    "    \n",
    "    total_x = []\n",
    "    total_y = []    \n",
    "    for m in range(1,5473):\n",
    "        pow_index = []\n",
    "        for indx in index:   \n",
    "            pow_index.append(seq[-(m+indx+1)])\n",
    " \n",
    "        total_x.append(np.concatenate((pow_index, seq_pow[-int((m//96)+24): -(int(m//96)+3)], temp[-int(m//96),:]), axis=0))\n",
    "        total_y.append(seq[-m]) \n",
    "        \n",
    "    return total_x, total_y #total_x(:119)——> 功率时间序列 (119:-4)——>功率最大最小均值 (-4:)温度"
   ]
  },
  {
   "cell_type": "code",
   "execution_count": 5,
   "id": "c75d2ed1-b08d-4652-bb59-6a6607c5a6ba",
   "metadata": {},
   "outputs": [
    {
     "ename": "ValueError",
     "evalue": "all the input arrays must have same number of dimensions, but the array at index 0 has 2 dimension(s) and the array at index 1 has 1 dimension(s)",
     "output_type": "error",
     "traceback": [
      "\u001b[1;31m---------------------------------------------------------------------------\u001b[0m",
      "\u001b[1;31mValueError\u001b[0m                                Traceback (most recent call last)",
      "Cell \u001b[1;32mIn [5], line 1\u001b[0m\n\u001b[1;32m----> 1\u001b[0m total_x, total_y \u001b[38;5;241m=\u001b[39m \u001b[43mdatamap\u001b[49m\u001b[43m(\u001b[49m\u001b[43mtime\u001b[49m\u001b[43m,\u001b[49m\u001b[43m \u001b[49m\u001b[43mpower\u001b[49m\u001b[43m,\u001b[49m\u001b[43m \u001b[49m\u001b[43mtemp\u001b[49m\u001b[43m,\u001b[49m\u001b[43m \u001b[49m\u001b[43mindex\u001b[49m\u001b[43m)\u001b[49m\n",
      "Cell \u001b[1;32mIn [4], line 21\u001b[0m, in \u001b[0;36mdatamap\u001b[1;34m(time, power, temp, index)\u001b[0m\n\u001b[0;32m     18\u001b[0m     \u001b[38;5;28;01mfor\u001b[39;00m indx \u001b[38;5;129;01min\u001b[39;00m index:   \n\u001b[0;32m     19\u001b[0m         pow_index\u001b[38;5;241m.\u001b[39mappend(seq[\u001b[38;5;241m-\u001b[39m(m\u001b[38;5;241m+\u001b[39mindx\u001b[38;5;241m+\u001b[39m\u001b[38;5;241m1\u001b[39m)])\n\u001b[1;32m---> 21\u001b[0m     total_x\u001b[38;5;241m.\u001b[39mappend(\u001b[43mnp\u001b[49m\u001b[38;5;241;43m.\u001b[39;49m\u001b[43mconcatenate\u001b[49m\u001b[43m(\u001b[49m\u001b[43m(\u001b[49m\u001b[43mpow_index\u001b[49m\u001b[43m,\u001b[49m\u001b[43m \u001b[49m\u001b[43mseq_pow\u001b[49m\u001b[43m[\u001b[49m\u001b[38;5;241;43m-\u001b[39;49m\u001b[38;5;28;43mint\u001b[39;49m\u001b[43m(\u001b[49m\u001b[43m(\u001b[49m\u001b[43mm\u001b[49m\u001b[38;5;241;43m/\u001b[39;49m\u001b[38;5;241;43m/\u001b[39;49m\u001b[38;5;241;43m96\u001b[39;49m\u001b[43m)\u001b[49m\u001b[38;5;241;43m+\u001b[39;49m\u001b[38;5;241;43m24\u001b[39;49m\u001b[43m)\u001b[49m\u001b[43m:\u001b[49m\u001b[43m \u001b[49m\u001b[38;5;241;43m-\u001b[39;49m\u001b[43m(\u001b[49m\u001b[38;5;28;43mint\u001b[39;49m\u001b[43m(\u001b[49m\u001b[43mm\u001b[49m\u001b[38;5;241;43m/\u001b[39;49m\u001b[38;5;241;43m/\u001b[39;49m\u001b[38;5;241;43m96\u001b[39;49m\u001b[43m)\u001b[49m\u001b[38;5;241;43m+\u001b[39;49m\u001b[38;5;241;43m3\u001b[39;49m\u001b[43m)\u001b[49m\u001b[43m]\u001b[49m\u001b[43m,\u001b[49m\u001b[43m \u001b[49m\u001b[43mtemp\u001b[49m\u001b[43m[\u001b[49m\u001b[38;5;241;43m-\u001b[39;49m\u001b[38;5;28;43mint\u001b[39;49m\u001b[43m(\u001b[49m\u001b[43mm\u001b[49m\u001b[38;5;241;43m/\u001b[39;49m\u001b[38;5;241;43m/\u001b[39;49m\u001b[38;5;241;43m96\u001b[39;49m\u001b[43m)\u001b[49m\u001b[43m,\u001b[49m\u001b[43m:\u001b[49m\u001b[43m]\u001b[49m\u001b[43m)\u001b[49m\u001b[43m,\u001b[49m\u001b[43m \u001b[49m\u001b[43maxis\u001b[49m\u001b[38;5;241;43m=\u001b[39;49m\u001b[38;5;241;43m0\u001b[39;49m\u001b[43m)\u001b[49m)\n\u001b[0;32m     22\u001b[0m     total_y\u001b[38;5;241m.\u001b[39mappend(seq[\u001b[38;5;241m-\u001b[39mm]) \n\u001b[0;32m     24\u001b[0m \u001b[38;5;28;01mreturn\u001b[39;00m total_x, total_y\n",
      "File \u001b[1;32m<__array_function__ internals>:180\u001b[0m, in \u001b[0;36mconcatenate\u001b[1;34m(*args, **kwargs)\u001b[0m\n",
      "\u001b[1;31mValueError\u001b[0m: all the input arrays must have same number of dimensions, but the array at index 0 has 2 dimension(s) and the array at index 1 has 1 dimension(s)"
     ]
    }
   ],
   "source": [
    "total_x, total_y = datamap(time, power, temp, index)"
   ]
  },
  {
   "cell_type": "code",
   "execution_count": 86,
   "id": "17be0cbf-b4b3-491e-99e0-6ce9acc4f2c0",
   "metadata": {},
   "outputs": [
    {
     "data": {
      "text/plain": [
       "1837.0340576171875"
      ]
     },
     "execution_count": 86,
     "metadata": {},
     "output_type": "execute_result"
    }
   ],
   "source": [
    "total_y[0]"
   ]
  },
  {
   "cell_type": "code",
   "execution_count": 87,
   "id": "760b66de-b98a-4031-888c-7623185f34ae",
   "metadata": {},
   "outputs": [
    {
     "data": {
      "text/plain": [
       "array([2025.05822754, 2454.60400391, 1503.30786133, 1991.43115234,\n",
       "       2433.77197266, 1505.06848145, 1974.20715332, 2397.27856445,\n",
       "       1490.85681152, 2018.79492188, 2430.05053711, 1496.62451172,\n",
       "       1989.95922852, 2390.78637695, 1512.56091309, 2013.54626465,\n",
       "       2415.60131836, 1511.62475586, 2041.30859375, 2478.921875  ,\n",
       "       1514.29638672])"
      ]
     },
     "execution_count": 87,
     "metadata": {},
     "output_type": "execute_result"
    }
   ],
   "source": [
    "total_x[0][119:-4]"
   ]
  },
  {
   "cell_type": "code",
   "execution_count": 3,
   "id": "17c73645-0572-46a7-b084-904d139ef0e1",
   "metadata": {
    "tags": []
   },
   "outputs": [],
   "source": [
    "total_x = np.concatenate((final_df_scaler[:, 1:10], final_df_scaler[:, -15:], final_df_scaler[:, 10:19]), axis=-1)\n",
    "total_y = final_df_scaler[:,0]"
   ]
  },
  {
   "cell_type": "code",
   "execution_count": 4,
   "id": "6b2ec290-4129-480b-87a2-4e35f552a3f4",
   "metadata": {
    "tags": []
   },
   "outputs": [
    {
     "name": "stdout",
     "output_type": "stream",
     "text": [
      "(652, 33) (164, 33)\n"
     ]
    }
   ],
   "source": [
    "index = int(math.floor(0.8*total_x.shape[0]))\n",
    "# seed = 1234\n",
    "# random.seed(seed)\n",
    "# random.shuffle(total_x)\n",
    "# random.seed(seed)\n",
    "# random.shuffle(total_y)   随机划分的话会报错\n",
    "\n",
    "\n",
    "train_x = total_x[: index, :]\n",
    "train_y = total_y[: index]\n",
    "test_x  = total_x[index: , :]\n",
    "test_y  = total_y[index:]\n",
    "print(train_x.shape, test_x.shape)"
   ]
  },
  {
   "cell_type": "markdown",
   "id": "6483574d-f1bc-46c3-a359-3b00a96efe0e",
   "metadata": {},
   "source": [
    "### Build Model"
   ]
  },
  {
   "cell_type": "code",
   "execution_count": 5,
   "id": "05b5cb05-17ca-454b-9871-c8ee3582ecd6",
   "metadata": {
    "tags": []
   },
   "outputs": [],
   "source": [
    "class dual_model(nn.Module): #双流模型\n",
    "    def __init__(self): #参数初始化\n",
    "        super(dual_model, self).__init__() #lstm 和三个线性层\n",
    "        self.d1   = nn.Linear(25, 25) #时序\n",
    "        self.LSTM = nn.LSTM(25, 25, batch_first=True) #时序 通道batch是第一个维度\n",
    "        self.d2   = nn.Linear(8, 25) #非时序\n",
    "        self.d3   = nn.Linear(25, 1) #时序非时许融合\n",
    "        self.relu = nn.ReLU() #Relu 激活函数 模型的输出限制0-1\n",
    "\n",
    "    def forward(self, x1, x2): #前向过程 self.d1 全局变量 两个输入对应时序与非时序\n",
    "        x1   = self.d1(x1)\n",
    "        info, (hn, cn) = self.LSTM(x1)\n",
    "        temp = self.relu(self.d2(x2))\n",
    "        fuse = torch.add(info, temp) #将温度信息与时序信息融合\n",
    "        return self.relu(self.d3(fuse))#融合之后再经历一次线性层输出后relu函数激活"
   ]
  },
  {
   "cell_type": "code",
   "execution_count": 6,
   "id": "852b34e5-d719-4e08-aaf0-3a96b20a3262",
   "metadata": {},
   "outputs": [],
   "source": [
    "class MyModel(nn.Module):\n",
    "    def __init__(self):\n",
    "        super(MyModel, self).__init__()\n",
    "        self.model = dual_model() #模型\n",
    "        self.loss  = nn.L1Loss()  #绝对值损失 mae\n",
    "        self.batch = 64 #一次喂多少个数据给模型\n",
    "        self.opt   = torch.optim.Adam(self.model.parameters(), lr=1e-5) #定义一个adam优化器 参数 学习率\n",
    "        self.epochs  = 2300 #训练轮数\n",
    "        self.train_loss = [] #训练损失 为损失函数可视化准备\n",
    "        self.eval_loss = []#测试损失\n",
    "        \n",
    "    def fit(self, train_x, train_y, test_x, test_y):\n",
    "        for epoch in tqdm(range(self.epochs)): #可视化进度条\n",
    "            batch_loss = [] #一个batch的损失\n",
    "            for i in range(0, len(train_x), self.batch):\n",
    "                x1 = torch.tensor(train_x[i:i+self.batch, :25])\n",
    "                x2 = torch.tensor(train_x[i:i+self.batch, 25:])\n",
    "                y = torch.tensor(train_y[i:i+self.batch]).unsqueeze(-1) #维度扩充\n",
    "                pred = self.model(x1, x2)\n",
    "                loss = self.loss(pred, y)\n",
    "                loss.backward() #计算梯度\n",
    "                self.opt.step() #优化\n",
    "                loss = loss.detach().cpu() \n",
    "                batch_loss.append(loss)\n",
    "                  \n",
    "            if epoch%100==0:      \n",
    "                print(sum(batch_loss)/len(batch_loss)) #平均batch损失\n",
    "                eval_x = test_x \n",
    "                eval_y = torch.tensor(test_y).unsqueeze(-1) #将y 从np里的数组转为张量 pytorch框架只能对张量计算\n",
    "                pred = self.pred(eval_x)\n",
    "                loss = self.loss(pred.squeeze(0), eval_y) \n",
    "                \n",
    "                self.train_loss.append(sum(batch_loss)/len(batch_loss))\n",
    "                self.eval_loss.append(loss)\n",
    "                \n",
    "        return self.train_loss, self.eval_loss #每一百轮的损失函数  列表\n",
    "                \n",
    "        \n",
    "    def pred(self, test_x):  #预测\n",
    "        with torch.no_grad():\n",
    "            x1 = torch.tensor(test_x[:,:25])\n",
    "            x2 = torch.tensor(test_x[:,25:])\n",
    "            pred = self.model(x1, x2)\n",
    "        return pred\n",
    "    \n",
    "    \n",
    "    def eval(self, test_x, test_y): \n",
    "        eval_loss = []\n",
    "        for i in range(len(test_y)):\n",
    "            x1 = torch.tensor(test_x[i, :25]).unsqueeze(0)\n",
    "            x2 = torch.tensor(test_x[i, 25:]).unsqueeze(0)\n",
    "            y  = torch.tensor(test_y[i]).unsqueeze(-1)\n",
    "            pred = self.model(x1, x2).squeeze(0)\n",
    "            loss = self.loss(pred, y)\n",
    "            eval_loss.append(loss)\n",
    "        \n",
    "        perc = (sum(eval_loss)/len(eval_loss))/(sum(test_y)/len(test_y))*100 \n",
    "        print('Percentage error is :', perc)\n",
    "        \n",
    "        \n",
    "    \n",
    "    \n",
    "# Create an instance of the model\n",
    "model = MyModel()"
   ]
  },
  {
   "cell_type": "markdown",
   "id": "2e2074cd-dcb4-493a-9a51-ffd04edf11a8",
   "metadata": {},
   "source": [
    "### Fitting"
   ]
  },
  {
   "cell_type": "code",
   "execution_count": 7,
   "id": "efcc5364-682c-4352-8bc2-74c7a7817ee1",
   "metadata": {
    "tags": []
   },
   "outputs": [
    {
     "name": "stderr",
     "output_type": "stream",
     "text": [
      "  0%|                                                                                 | 1/2300 [00:00<13:12,  2.90it/s]"
     ]
    },
    {
     "name": "stdout",
     "output_type": "stream",
     "text": [
      "tensor(0.2756)\n"
     ]
    },
    {
     "name": "stderr",
     "output_type": "stream",
     "text": [
      "  4%|███▍                                                                           | 101/2300 [15:22<12:46,  2.87it/s]"
     ]
    },
    {
     "name": "stdout",
     "output_type": "stream",
     "text": [
      "tensor(0.1174)\n"
     ]
    },
    {
     "name": "stderr",
     "output_type": "stream",
     "text": [
      "  9%|██████▉                                                                        | 202/2300 [15:55<06:02,  5.79it/s]"
     ]
    },
    {
     "name": "stdout",
     "output_type": "stream",
     "text": [
      "tensor(0.1016)\n"
     ]
    },
    {
     "name": "stderr",
     "output_type": "stream",
     "text": [
      " 13%|██████████▎                                                                    | 302/2300 [16:10<04:58,  6.69it/s]"
     ]
    },
    {
     "name": "stdout",
     "output_type": "stream",
     "text": [
      "tensor(0.0695)\n"
     ]
    },
    {
     "name": "stderr",
     "output_type": "stream",
     "text": [
      " 17%|█████████████▊                                                                 | 402/2300 [16:24<04:20,  7.30it/s]"
     ]
    },
    {
     "name": "stdout",
     "output_type": "stream",
     "text": [
      "tensor(0.0592)\n"
     ]
    },
    {
     "name": "stderr",
     "output_type": "stream",
     "text": [
      " 22%|█████████████████▏                                                             | 502/2300 [16:38<04:17,  6.98it/s]"
     ]
    },
    {
     "name": "stdout",
     "output_type": "stream",
     "text": [
      "tensor(0.0607)\n"
     ]
    },
    {
     "name": "stderr",
     "output_type": "stream",
     "text": [
      " 26%|████████████████████▋                                                          | 602/2300 [16:53<05:21,  5.29it/s]"
     ]
    },
    {
     "name": "stdout",
     "output_type": "stream",
     "text": [
      "tensor(0.0589)\n"
     ]
    },
    {
     "name": "stderr",
     "output_type": "stream",
     "text": [
      " 31%|████████████████████████                                                       | 702/2300 [17:08<03:44,  7.11it/s]"
     ]
    },
    {
     "name": "stdout",
     "output_type": "stream",
     "text": [
      "tensor(0.0592)\n"
     ]
    },
    {
     "name": "stderr",
     "output_type": "stream",
     "text": [
      " 35%|███████████████████████████▌                                                   | 802/2300 [17:22<03:23,  7.37it/s]"
     ]
    },
    {
     "name": "stdout",
     "output_type": "stream",
     "text": [
      "tensor(0.0575)\n"
     ]
    },
    {
     "name": "stderr",
     "output_type": "stream",
     "text": [
      " 39%|██████████████████████████████▉                                                | 902/2300 [17:37<03:18,  7.05it/s]"
     ]
    },
    {
     "name": "stdout",
     "output_type": "stream",
     "text": [
      "tensor(0.0560)\n"
     ]
    },
    {
     "name": "stderr",
     "output_type": "stream",
     "text": [
      " 44%|█████████████████████████████████▉                                            | 1002/2300 [17:52<04:01,  5.38it/s]"
     ]
    },
    {
     "name": "stdout",
     "output_type": "stream",
     "text": [
      "tensor(0.0546)\n"
     ]
    },
    {
     "name": "stderr",
     "output_type": "stream",
     "text": [
      " 48%|█████████████████████████████████████▎                                        | 1102/2300 [18:06<02:46,  7.18it/s]"
     ]
    },
    {
     "name": "stdout",
     "output_type": "stream",
     "text": [
      "tensor(0.0501)\n"
     ]
    },
    {
     "name": "stderr",
     "output_type": "stream",
     "text": [
      " 52%|████████████████████████████████████████▋                                     | 1201/2300 [18:20<02:56,  6.24it/s]"
     ]
    },
    {
     "name": "stdout",
     "output_type": "stream",
     "text": [
      "tensor(0.0425)\n"
     ]
    },
    {
     "name": "stderr",
     "output_type": "stream",
     "text": [
      " 57%|████████████████████████████████████████████▏                                 | 1302/2300 [18:34<02:21,  7.05it/s]"
     ]
    },
    {
     "name": "stdout",
     "output_type": "stream",
     "text": [
      "tensor(0.0405)\n"
     ]
    },
    {
     "name": "stderr",
     "output_type": "stream",
     "text": [
      " 61%|███████████████████████████████████████████████▌                              | 1402/2300 [18:50<02:12,  6.77it/s]"
     ]
    },
    {
     "name": "stdout",
     "output_type": "stream",
     "text": [
      "tensor(0.0398)\n"
     ]
    },
    {
     "name": "stderr",
     "output_type": "stream",
     "text": [
      " 65%|██████████████████████████████████████████████████▉                           | 1502/2300 [19:05<01:54,  6.94it/s]"
     ]
    },
    {
     "name": "stdout",
     "output_type": "stream",
     "text": [
      "tensor(0.0390)\n"
     ]
    },
    {
     "name": "stderr",
     "output_type": "stream",
     "text": [
      " 70%|██████████████████████████████████████████████████████▎                       | 1601/2300 [19:20<01:39,  7.02it/s]"
     ]
    },
    {
     "name": "stdout",
     "output_type": "stream",
     "text": [
      "tensor(0.0387)\n"
     ]
    },
    {
     "name": "stderr",
     "output_type": "stream",
     "text": [
      " 74%|█████████████████████████████████████████████████████████▋                    | 1702/2300 [19:35<01:32,  6.47it/s]"
     ]
    },
    {
     "name": "stdout",
     "output_type": "stream",
     "text": [
      "tensor(0.0382)\n"
     ]
    },
    {
     "name": "stderr",
     "output_type": "stream",
     "text": [
      " 78%|█████████████████████████████████████████████████████████████                 | 1802/2300 [19:51<01:15,  6.59it/s]"
     ]
    },
    {
     "name": "stdout",
     "output_type": "stream",
     "text": [
      "tensor(0.0385)\n"
     ]
    },
    {
     "name": "stderr",
     "output_type": "stream",
     "text": [
      " 83%|████████████████████████████████████████████████████████████████▌             | 1902/2300 [20:05<00:57,  6.95it/s]"
     ]
    },
    {
     "name": "stdout",
     "output_type": "stream",
     "text": [
      "tensor(0.0378)\n"
     ]
    },
    {
     "name": "stderr",
     "output_type": "stream",
     "text": [
      " 87%|███████████████████████████████████████████████████████████████████▉          | 2002/2300 [20:20<00:49,  6.05it/s]"
     ]
    },
    {
     "name": "stdout",
     "output_type": "stream",
     "text": [
      "tensor(0.0381)\n"
     ]
    },
    {
     "name": "stderr",
     "output_type": "stream",
     "text": [
      " 91%|███████████████████████████████████████████████████████████████████████▎      | 2102/2300 [20:37<00:29,  6.61it/s]"
     ]
    },
    {
     "name": "stdout",
     "output_type": "stream",
     "text": [
      "tensor(0.0403)\n"
     ]
    },
    {
     "name": "stderr",
     "output_type": "stream",
     "text": [
      " 96%|██████████████████████████████████████████████████████████████████████████▋   | 2202/2300 [20:53<00:14,  6.78it/s]"
     ]
    },
    {
     "name": "stdout",
     "output_type": "stream",
     "text": [
      "tensor(0.0365)\n"
     ]
    },
    {
     "name": "stderr",
     "output_type": "stream",
     "text": [
      "100%|██████████████████████████████████████████████████████████████████████████████| 2300/2300 [21:08<00:00,  1.81it/s]\n"
     ]
    }
   ],
   "source": [
    "train_loss, eval_loss = model.fit(train_x, train_y, test_x, test_y)"
   ]
  },
  {
   "cell_type": "markdown",
   "id": "20e1a504-68ad-44d4-b32e-3d1e2777c50d",
   "metadata": {
    "tags": []
   },
   "source": [
    "### Visualization"
   ]
  },
  {
   "cell_type": "code",
   "execution_count": 12,
   "id": "5b58aa92-1605-4944-9a38-5f917087be43",
   "metadata": {
    "tags": []
   },
   "outputs": [
    {
     "data": {
      "image/png": "[encoded data removed]",
      "text/plain": [
       "<Figure size 640x480 with 1 Axes>"
      ]
     },
     "metadata": {},
     "output_type": "display_data"
    }
   ],
   "source": [
    "plt.plot(train_loss, color='b', label='train_loss', linewidth=0.8) #训练\n",
    "plt.plot(eval_loss, color='y', label='eval_loss', linewidth=0.8) #测试\n",
    "plt.show()"
   ]
  },
  {
   "cell_type": "markdown",
   "id": "1dc51e4f-df1e-4f19-a849-4d2503eb00b6",
   "metadata": {},
   "source": [
    "### Evaluation"
   ]
  },
  {
   "cell_type": "code",
   "execution_count": 13,
   "id": "8bcfdfc1-4853-4422-9fd2-f53a1e4c7d93",
   "metadata": {
    "tags": []
   },
   "outputs": [
    {
     "name": "stdout",
     "output_type": "stream",
     "text": [
      "Percentage error is : tensor(8.6241, grad_fn=<MulBackward0>)\n"
     ]
    }
   ],
   "source": [
    "model.eval(test_x, test_y)"
   ]
  },
  {
   "cell_type": "code",
   "execution_count": null,
   "id": "7e56b6b9-74e0-4410-b815-4c347be8cb96",
   "metadata": {},
   "outputs": [],
   "source": []
  }
 ],
 "metadata": {
  "kernelspec": {
   "display_name": "torch113",
   "language": "python",
   "name": "torch113"
  },
  "language_info": {
   "codemirror_mode": {
    "name": "ipython",
    "version": 3
   },
   "file_extension": ".py",
   "mimetype": "text/x-python",
   "name": "python",
   "nbconvert_exporter": "python",
   "pygments_lexer": "ipython3",
   "version": "3.9.13"
  }
 },
 "nbformat": 4,
 "nbformat_minor": 5
}
